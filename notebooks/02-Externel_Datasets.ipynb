{
 "cells": [
  {
   "cell_type": "markdown",
   "metadata": {},
   "source": [
    "# External Datasets"
   ]
  },
  {
   "cell_type": "markdown",
   "metadata": {},
   "source": [
    "In this notebook, we assess the quality of two existing built-up datasets based on Landsat: the Global Human Settlements Layer (GHSL) and the Human Built-up and Settlements Extents (HBASE). The assessment is performed based on the reference hand-digitized land cover polygons located in `data/input/reference`. Three metrics are computed for each of our ten case studies: F1-Score, Precision & Recall."
   ]
  },
  {
   "cell_type": "markdown",
   "metadata": {
    "heading_collapsed": true
   },
   "source": [
    "## Imports & Parameters"
   ]
  },
  {
   "cell_type": "code",
   "execution_count": 1,
   "metadata": {
    "hidden": true
   },
   "outputs": [],
   "source": [
    "import os, sys\n",
    "from glob import glob\n",
    "import numpy as np\n",
    "import matplotlib.pyplot as plt\n",
    "import pandas as pd\n",
    "import rasterio\n",
    "import rasterio.mask\n",
    "from tqdm import tqdm_notebook as tqdm\n",
    "from shapely.geometry import shape\n",
    "from sklearn.metrics import f1_score, precision_score, recall_score"
   ]
  },
  {
   "cell_type": "code",
   "execution_count": 2,
   "metadata": {
    "hidden": true
   },
   "outputs": [],
   "source": [
    "# Add local module to the path\n",
    "src = os.path.abspath('../src')\n",
    "if src not in sys.path:\n",
    "    sys.path.append(src)"
   ]
  },
  {
   "cell_type": "code",
   "execution_count": 3,
   "metadata": {
    "hidden": true
   },
   "outputs": [],
   "source": [
    "from metadata import City, CITIES, DATA_DIR\n",
    "import classification as cls\n",
    "from generate_aoi import reproject_geom, as_geojson"
   ]
  },
  {
   "cell_type": "code",
   "execution_count": 4,
   "metadata": {
    "hidden": true
   },
   "outputs": [],
   "source": [
    "%matplotlib inline\n",
    "%load_ext autoreload\n",
    "%autoreload 2"
   ]
  },
  {
   "cell_type": "markdown",
   "metadata": {
    "heading_collapsed": true
   },
   "source": [
    "## Global Human Settlements Layer (GHSL)"
   ]
  },
  {
   "cell_type": "markdown",
   "metadata": {
    "hidden": true
   },
   "source": [
    "The Global Human Settlements Layer Built-up Grid has been acquired through its [official website](http://ghsl.jrc.ec.europa.eu/ghs_bu.php)."
   ]
  },
  {
   "cell_type": "code",
   "execution_count": 7,
   "metadata": {
    "hidden": true
   },
   "outputs": [],
   "source": [
    "ghsl_f = os.path.join(DATA_DIR, 'input', 'ghsl', 'GHS_BUILT_LDSMT_GLOBE_R2015B_3857_38_v1_0.vrt')"
   ]
  },
  {
   "cell_type": "code",
   "execution_count": 56,
   "metadata": {
    "hidden": true
   },
   "outputs": [],
   "source": [
    "def get_ghsl(ghsl_f, area_of_interest, rasterio_profile):\n",
    "    \"\"\"Load GHSL data for a given area of interest (GeoJSON-like dict, EPSG:3857).\"\"\"\n",
    "    masking_shapes = [area_of_interest['geometry']]\n",
    "    \n",
    "    with rasterio.open(ghsl_f) as src:\n",
    "        img, src_affine = rasterio.mask.mask(src, masking_shapes, crop=True)\n",
    "        img = img[0, :, :]\n",
    "        src_crs = src.crs\n",
    "    \n",
    "    shape = (rasterio_profile['height'], rasterio_profile['width'])\n",
    "    dst_affine, dst_crs = rasterio_profile['affine'], rasterio_profile['crs']\n",
    "    layer = np.zeros(shape=shape, dtype=np.uint8)\n",
    "    \n",
    "    rasterio.warp.reproject(\n",
    "        source=img,\n",
    "        destination=layer,\n",
    "        src_transform=src_affine,\n",
    "        src_crs=src_crs,\n",
    "        dst_transform=dst_affine,\n",
    "        dst_crs=dst_crs,\n",
    "    )\n",
    "    \n",
    "    return layer"
   ]
  },
  {
   "cell_type": "code",
   "execution_count": 21,
   "metadata": {
    "hidden": true
   },
   "outputs": [
    {
     "data": {
      "application/vnd.jupyter.widget-view+json": {
       "model_id": "4e95a6638ad1411e91396d6eaf71dbc4",
       "version_major": 2,
       "version_minor": 0
      },
      "text/html": [
       "<p>Failed to display Jupyter Widget of type <code>HBox</code>.</p>\n",
       "<p>\n",
       "  If you're reading this message in the Jupyter Notebook or JupyterLab Notebook, it may mean\n",
       "  that the widgets JavaScript is still loading. If this message persists, it\n",
       "  likely means that the widgets JavaScript library is either not installed or\n",
       "  not enabled. See the <a href=\"https://ipywidgets.readthedocs.io/en/stable/user_install.html\">Jupyter\n",
       "  Widgets Documentation</a> for setup instructions.\n",
       "</p>\n",
       "<p>\n",
       "  If you're reading this message in another frontend (for example, a static\n",
       "  rendering on GitHub or <a href=\"https://nbviewer.jupyter.org/\">NBViewer</a>),\n",
       "  it may mean that your frontend doesn't currently support widgets.\n",
       "</p>\n"
      ],
      "text/plain": [
       "HBox(children=(IntProgress(value=0, max=10), HTML(value='')))"
      ]
     },
     "metadata": {},
     "output_type": "display_data"
    },
    {
     "name": "stdout",
     "output_type": "stream",
     "text": [
      "\n"
     ]
    }
   ],
   "source": [
    "METRICS = ['f1_score', 'precision', 'recall']\n",
    "ghsl_scores = pd.DataFrame(index=CITIES, columns=METRICS)\n",
    "progress = tqdm(total=len(CITIES))\n",
    "\n",
    "for city_name in CITIES:\n",
    "    \n",
    "    city = City(city_name)\n",
    "\n",
    "    area_of_interest = shape(city.aoi)\n",
    "    area_of_interest = reproject_geom(area_of_interest, city.epsg, 3857)\n",
    "    area_of_interest = as_geojson(area_of_interest)\n",
    "    \n",
    "    ghsl = get_ghsl(ghsl_f, area_of_interest, city.profile)\n",
    "    \n",
    "    y_true, y_pred = cls.transform_test(city.reference, ghsl)\n",
    "    y_true = y_true == 1\n",
    "    y_pred = y_pred >= 3\n",
    "    \n",
    "    ghsl_scores.at[(city_name, 'f1_score')] = f1_score(y_true, y_pred)\n",
    "    ghsl_scores.at[(city_name, 'precision')] = precision_score(y_true, y_pred)\n",
    "    ghsl_scores.at[(city_name, 'recall')] = recall_score(y_true, y_pred)\n",
    "    progress.update(1)\n",
    "\n",
    "progress.close()"
   ]
  },
  {
   "cell_type": "code",
   "execution_count": 54,
   "metadata": {
    "hidden": true
   },
   "outputs": [
    {
     "data": {
      "text/html": [
       "<div>\n",
       "<style scoped>\n",
       "    .dataframe tbody tr th:only-of-type {\n",
       "        vertical-align: middle;\n",
       "    }\n",
       "\n",
       "    .dataframe tbody tr th {\n",
       "        vertical-align: top;\n",
       "    }\n",
       "\n",
       "    .dataframe thead th {\n",
       "        text-align: right;\n",
       "    }\n",
       "</style>\n",
       "<table border=\"1\" class=\"dataframe\">\n",
       "  <thead>\n",
       "    <tr style=\"text-align: right;\">\n",
       "      <th></th>\n",
       "      <th>f1_score</th>\n",
       "      <th>precision</th>\n",
       "      <th>recall</th>\n",
       "    </tr>\n",
       "  </thead>\n",
       "  <tbody>\n",
       "    <tr>\n",
       "      <th>antananarivo</th>\n",
       "      <td>0.83</td>\n",
       "      <td>0.82</td>\n",
       "      <td>0.83</td>\n",
       "    </tr>\n",
       "    <tr>\n",
       "      <th>chimoio</th>\n",
       "      <td>0.47</td>\n",
       "      <td>0.97</td>\n",
       "      <td>0.31</td>\n",
       "    </tr>\n",
       "    <tr>\n",
       "      <th>dakar</th>\n",
       "      <td>0.85</td>\n",
       "      <td>0.74</td>\n",
       "      <td>1.00</td>\n",
       "    </tr>\n",
       "    <tr>\n",
       "      <th>gao</th>\n",
       "      <td>0.35</td>\n",
       "      <td>0.98</td>\n",
       "      <td>0.21</td>\n",
       "    </tr>\n",
       "    <tr>\n",
       "      <th>johannesburg</th>\n",
       "      <td>0.92</td>\n",
       "      <td>0.86</td>\n",
       "      <td>0.99</td>\n",
       "    </tr>\n",
       "    <tr>\n",
       "      <th>kampala</th>\n",
       "      <td>0.96</td>\n",
       "      <td>0.95</td>\n",
       "      <td>0.96</td>\n",
       "    </tr>\n",
       "    <tr>\n",
       "      <th>katsina</th>\n",
       "      <td>0.90</td>\n",
       "      <td>0.92</td>\n",
       "      <td>0.88</td>\n",
       "    </tr>\n",
       "    <tr>\n",
       "      <th>nairobi</th>\n",
       "      <td>0.84</td>\n",
       "      <td>0.96</td>\n",
       "      <td>0.75</td>\n",
       "    </tr>\n",
       "    <tr>\n",
       "      <th>saint_louis</th>\n",
       "      <td>0.76</td>\n",
       "      <td>0.95</td>\n",
       "      <td>0.63</td>\n",
       "    </tr>\n",
       "    <tr>\n",
       "      <th>windhoek</th>\n",
       "      <td>0.81</td>\n",
       "      <td>0.92</td>\n",
       "      <td>0.73</td>\n",
       "    </tr>\n",
       "  </tbody>\n",
       "</table>\n",
       "</div>"
      ],
      "text/plain": [
       "              f1_score  precision  recall\n",
       "antananarivo      0.83       0.82    0.83\n",
       "chimoio           0.47       0.97    0.31\n",
       "dakar             0.85       0.74    1.00\n",
       "gao               0.35       0.98    0.21\n",
       "johannesburg      0.92       0.86    0.99\n",
       "kampala           0.96       0.95    0.96\n",
       "katsina           0.90       0.92    0.88\n",
       "nairobi           0.84       0.96    0.75\n",
       "saint_louis       0.76       0.95    0.63\n",
       "windhoek          0.81       0.92    0.73"
      ]
     },
     "execution_count": 54,
     "metadata": {},
     "output_type": "execute_result"
    }
   ],
   "source": [
    "ghsl_scores = ghsl_scores.astype(np.float64).round(2)\n",
    "ghsl_scores.to_csv(os.path.join(DATA_DIR, 'output', 'ghsl_scores.csv'))\n",
    "ghsl_scores"
   ]
  },
  {
   "cell_type": "code",
   "execution_count": 59,
   "metadata": {
    "hidden": true
   },
   "outputs": [
    {
     "data": {
      "text/plain": [
       "f1_score     0.769\n",
       "precision    0.907\n",
       "recall       0.729\n",
       "dtype: float64"
      ]
     },
     "metadata": {},
     "output_type": "display_data"
    },
    {
     "data": {
      "text/plain": [
       "f1_score     0.199580\n",
       "precision    0.077323\n",
       "recall       0.275498\n",
       "dtype: float64"
      ]
     },
     "metadata": {},
     "output_type": "display_data"
    }
   ],
   "source": [
    "display(ghsl_scores.mean())\n",
    "display(ghsl_scores.std())"
   ]
  },
  {
   "cell_type": "markdown",
   "metadata": {
    "heading_collapsed": true
   },
   "source": [
    "## Global Human Built-up and Settlement Extent (HBASE)"
   ]
  },
  {
   "cell_type": "markdown",
   "metadata": {
    "hidden": true
   },
   "source": [
    "The HBASE data has been download manually through its [official website](http://sedac.ciesin.columbia.edu/data/set/ulandsat-hbase-v1/data-download) for each of our areas of interest."
   ]
  },
  {
   "cell_type": "code",
   "execution_count": 25,
   "metadata": {
    "hidden": true
   },
   "outputs": [],
   "source": [
    "hbase_dir = os.path.join(DATA_DIR, 'input', 'hbase')\n",
    "hbase_f = '*_hbase_human_built_up_and_settlement_extent_utm_30m.tif'"
   ]
  },
  {
   "cell_type": "code",
   "execution_count": 34,
   "metadata": {
    "hidden": true
   },
   "outputs": [],
   "source": [
    "def get_hbase(hbase_dir, hbase_f, city_name, dst_profile):\n",
    "    \"\"\"Load HBASE data for a given city and reproject it to the same CRS & affine.\n",
    "    Some cities require two tiles in different CRS to be entirely covered. In this\n",
    "    case, both tiles are merged.\n",
    "    \"\"\"\n",
    "    dst_affine, dst_crs = dst_profile['affine'], dst_profile['crs']\n",
    "    dst_shape = (dst_profile['height'], dst_profile['width'])\n",
    "    \n",
    "    hbase_files = glob(os.path.join(hbase_dir, city_name, hbase_f))    \n",
    "    \n",
    "    if len(hbase_files) == 1:\n",
    "        \n",
    "        path = hbase_files[0]\n",
    "        \n",
    "        with rasterio.open(path) as src:\n",
    "            img = src.read(1)\n",
    "            src_affine = src.affine\n",
    "            src_crs = src.crs\n",
    "        \n",
    "        hbase = np.zeros(shape=dst_shape, dtype=np.uint8)\n",
    "        rasterio.warp.reproject(\n",
    "            source=img,\n",
    "            destination=hbase,\n",
    "            src_transform=src_affine,\n",
    "            src_crs=src_crs,\n",
    "            dst_transform=dst_affine,\n",
    "            dst_crs=dst_crs\n",
    "        )\n",
    "        \n",
    "        return hbase\n",
    "        \n",
    "    if len(hbase_files) == 2:\n",
    "        \n",
    "        path_a, path_b = hbase_files\n",
    "        \n",
    "        with rasterio.open(path_a) as src:\n",
    "            img = src.read(1)\n",
    "            src_affine = src.affine\n",
    "            src_crs = src.crs\n",
    "        \n",
    "        hbase_a = np.zeros(shape=dst_shape, dtype=np.uint8)\n",
    "        rasterio.warp.reproject(\n",
    "            source=img,\n",
    "            destination=hbase_a,\n",
    "            src_transform=src_affine,\n",
    "            src_crs=src_crs,\n",
    "            dst_transform=dst_affine,\n",
    "            dst_crs=dst_crs\n",
    "        )\n",
    "\n",
    "        with rasterio.open(path_b) as src:\n",
    "            img = src.read(1)\n",
    "            src_affine = src.affine\n",
    "            src_crs = src.crs\n",
    "        \n",
    "        hbase_b = np.zeros(shape=dst_shape, dtype=np.uint8)\n",
    "        rasterio.warp.reproject(\n",
    "            source=img,\n",
    "            destination=hbase_b,\n",
    "            src_transform=src_affine,\n",
    "            src_crs=src_crs,\n",
    "            dst_transform=dst_affine,\n",
    "            dst_crs=dst_crs\n",
    "        )\n",
    "        \n",
    "        hbase_a[hbase_a < 200] = hbase_b[hbase_a < 200]\n",
    "        return hbase_a"
   ]
  },
  {
   "cell_type": "code",
   "execution_count": 35,
   "metadata": {
    "hidden": true
   },
   "outputs": [
    {
     "data": {
      "application/vnd.jupyter.widget-view+json": {
       "model_id": "c835f67870604306bf8174b505552efe",
       "version_major": 2,
       "version_minor": 0
      },
      "text/html": [
       "<p>Failed to display Jupyter Widget of type <code>HBox</code>.</p>\n",
       "<p>\n",
       "  If you're reading this message in the Jupyter Notebook or JupyterLab Notebook, it may mean\n",
       "  that the widgets JavaScript is still loading. If this message persists, it\n",
       "  likely means that the widgets JavaScript library is either not installed or\n",
       "  not enabled. See the <a href=\"https://ipywidgets.readthedocs.io/en/stable/user_install.html\">Jupyter\n",
       "  Widgets Documentation</a> for setup instructions.\n",
       "</p>\n",
       "<p>\n",
       "  If you're reading this message in another frontend (for example, a static\n",
       "  rendering on GitHub or <a href=\"https://nbviewer.jupyter.org/\">NBViewer</a>),\n",
       "  it may mean that your frontend doesn't currently support widgets.\n",
       "</p>\n"
      ],
      "text/plain": [
       "HBox(children=(IntProgress(value=0, max=10), HTML(value='')))"
      ]
     },
     "metadata": {},
     "output_type": "display_data"
    }
   ],
   "source": [
    "METRICS = ['f1_score', 'precision', 'recall']\n",
    "hbase_scores = pd.DataFrame(index=CITIES, columns=METRICS)\n",
    "progress = tqdm(total=len(CITIES))\n",
    "\n",
    "for city_name in CITIES:\n",
    "    \n",
    "    city = City(city_name)\n",
    "    \n",
    "    hbase = get_hbase(hbase_dir, hbase_f, city.name, city.profile)\n",
    "    \n",
    "    y_true, y_pred = cls.transform_test(city.reference, hbase)\n",
    "    y_true = y_true == 1\n",
    "    y_pred = y_pred == 201\n",
    "    \n",
    "    hbase_scores.at[(city_name, 'f1_score')] = f1_score(y_true, y_pred)\n",
    "    hbase_scores.at[(city_name, 'precision')] = precision_score(y_true, y_pred)\n",
    "    hbase_scores.at[(city_name, 'recall')] = recall_score(y_true, y_pred)\n",
    "    progress.update(1)\n",
    "\n",
    "progress.close()"
   ]
  },
  {
   "cell_type": "code",
   "execution_count": 53,
   "metadata": {
    "hidden": true
   },
   "outputs": [
    {
     "data": {
      "text/html": [
       "<div>\n",
       "<style scoped>\n",
       "    .dataframe tbody tr th:only-of-type {\n",
       "        vertical-align: middle;\n",
       "    }\n",
       "\n",
       "    .dataframe tbody tr th {\n",
       "        vertical-align: top;\n",
       "    }\n",
       "\n",
       "    .dataframe thead th {\n",
       "        text-align: right;\n",
       "    }\n",
       "</style>\n",
       "<table border=\"1\" class=\"dataframe\">\n",
       "  <thead>\n",
       "    <tr style=\"text-align: right;\">\n",
       "      <th></th>\n",
       "      <th>f1_score</th>\n",
       "      <th>precision</th>\n",
       "      <th>recall</th>\n",
       "    </tr>\n",
       "  </thead>\n",
       "  <tbody>\n",
       "    <tr>\n",
       "      <th>antananarivo</th>\n",
       "      <td>0.79</td>\n",
       "      <td>0.67</td>\n",
       "      <td>0.96</td>\n",
       "    </tr>\n",
       "    <tr>\n",
       "      <th>chimoio</th>\n",
       "      <td>0.82</td>\n",
       "      <td>0.94</td>\n",
       "      <td>0.73</td>\n",
       "    </tr>\n",
       "    <tr>\n",
       "      <th>dakar</th>\n",
       "      <td>0.81</td>\n",
       "      <td>0.69</td>\n",
       "      <td>0.98</td>\n",
       "    </tr>\n",
       "    <tr>\n",
       "      <th>gao</th>\n",
       "      <td>0.73</td>\n",
       "      <td>0.94</td>\n",
       "      <td>0.59</td>\n",
       "    </tr>\n",
       "    <tr>\n",
       "      <th>johannesburg</th>\n",
       "      <td>0.90</td>\n",
       "      <td>0.82</td>\n",
       "      <td>1.00</td>\n",
       "    </tr>\n",
       "    <tr>\n",
       "      <th>kampala</th>\n",
       "      <td>0.95</td>\n",
       "      <td>0.93</td>\n",
       "      <td>0.97</td>\n",
       "    </tr>\n",
       "    <tr>\n",
       "      <th>katsina</th>\n",
       "      <td>0.65</td>\n",
       "      <td>0.76</td>\n",
       "      <td>0.56</td>\n",
       "    </tr>\n",
       "    <tr>\n",
       "      <th>nairobi</th>\n",
       "      <td>0.88</td>\n",
       "      <td>0.81</td>\n",
       "      <td>0.97</td>\n",
       "    </tr>\n",
       "    <tr>\n",
       "      <th>saint_louis</th>\n",
       "      <td>0.81</td>\n",
       "      <td>0.97</td>\n",
       "      <td>0.70</td>\n",
       "    </tr>\n",
       "    <tr>\n",
       "      <th>windhoek</th>\n",
       "      <td>0.78</td>\n",
       "      <td>0.65</td>\n",
       "      <td>0.99</td>\n",
       "    </tr>\n",
       "  </tbody>\n",
       "</table>\n",
       "</div>"
      ],
      "text/plain": [
       "              f1_score  precision  recall\n",
       "antananarivo      0.79       0.67    0.96\n",
       "chimoio           0.82       0.94    0.73\n",
       "dakar             0.81       0.69    0.98\n",
       "gao               0.73       0.94    0.59\n",
       "johannesburg      0.90       0.82    1.00\n",
       "kampala           0.95       0.93    0.97\n",
       "katsina           0.65       0.76    0.56\n",
       "nairobi           0.88       0.81    0.97\n",
       "saint_louis       0.81       0.97    0.70\n",
       "windhoek          0.78       0.65    0.99"
      ]
     },
     "execution_count": 53,
     "metadata": {},
     "output_type": "execute_result"
    }
   ],
   "source": [
    "hbase_scores = hbase_scores.astype(np.float64).round(2)\n",
    "hbase_scores.to_csv(os.path.join(DATA_DIR, 'output', 'hbase_scores.csv'))\n",
    "hbase_scores"
   ]
  },
  {
   "cell_type": "code",
   "execution_count": 60,
   "metadata": {
    "hidden": true
   },
   "outputs": [
    {
     "data": {
      "text/plain": [
       "f1_score     0.812\n",
       "precision    0.818\n",
       "recall       0.845\n",
       "dtype: float64"
      ]
     },
     "metadata": {},
     "output_type": "display_data"
    },
    {
     "data": {
      "text/plain": [
       "f1_score     0.085609\n",
       "precision    0.122638\n",
       "recall       0.178963\n",
       "dtype: float64"
      ]
     },
     "metadata": {},
     "output_type": "display_data"
    }
   ],
   "source": [
    "display(hbase_scores.mean())\n",
    "display(hbase_scores.std())"
   ]
  },
  {
   "cell_type": "markdown",
   "metadata": {},
   "source": [
    "## Summary"
   ]
  },
  {
   "cell_type": "code",
   "execution_count": 10,
   "metadata": {},
   "outputs": [],
   "source": [
    "from itertools import product"
   ]
  },
  {
   "cell_type": "code",
   "execution_count": 9,
   "metadata": {},
   "outputs": [],
   "source": [
    "ghsl_scores = pd.read_csv(os.path.join(DATA_DIR, 'output', 'ghsl_scores.csv'), index_col=0)\n",
    "hbase_scores = pd.read_csv(os.path.join(DATA_DIR, 'output', 'hbase_scores.csv'), index_col=0)"
   ]
  },
  {
   "cell_type": "code",
   "execution_count": 17,
   "metadata": {},
   "outputs": [],
   "source": [
    "map_labels = ['ghsl', 'hbase']\n",
    "metrics = ['f1_score', 'precision', 'recall']\n",
    "columns = [label + '_' + metric for label, metric in product(map_labels, metrics)]\n",
    "scores = pd.DataFrame(index=CITIES, columns=columns)"
   ]
  },
  {
   "cell_type": "code",
   "execution_count": 18,
   "metadata": {},
   "outputs": [],
   "source": [
    "for map_scores, map_label in zip([ghsl_scores, hbase_scores], map_labels):\n",
    "    \n",
    "    for city, metric in product(CITIES, metrics):\n",
    "        \n",
    "        col = map_label + '_' + metric\n",
    "        scores.at[(city, col)] = map_scores.at[(city, metric)]"
   ]
  },
  {
   "cell_type": "code",
   "execution_count": 19,
   "metadata": {},
   "outputs": [],
   "source": [
    "scores.loc['mean'] = scores.mean().round(2)\n",
    "scores.loc['std'] = scores.std().round(2)"
   ]
  },
  {
   "cell_type": "code",
   "execution_count": 20,
   "metadata": {},
   "outputs": [
    {
     "data": {
      "text/html": [
       "<div>\n",
       "<style scoped>\n",
       "    .dataframe tbody tr th:only-of-type {\n",
       "        vertical-align: middle;\n",
       "    }\n",
       "\n",
       "    .dataframe tbody tr th {\n",
       "        vertical-align: top;\n",
       "    }\n",
       "\n",
       "    .dataframe thead th {\n",
       "        text-align: right;\n",
       "    }\n",
       "</style>\n",
       "<table border=\"1\" class=\"dataframe\">\n",
       "  <thead>\n",
       "    <tr style=\"text-align: right;\">\n",
       "      <th></th>\n",
       "      <th>ghsl_f1_score</th>\n",
       "      <th>ghsl_precision</th>\n",
       "      <th>ghsl_recall</th>\n",
       "      <th>hbase_f1_score</th>\n",
       "      <th>hbase_precision</th>\n",
       "      <th>hbase_recall</th>\n",
       "    </tr>\n",
       "  </thead>\n",
       "  <tbody>\n",
       "    <tr>\n",
       "      <th>antananarivo</th>\n",
       "      <td>0.83</td>\n",
       "      <td>0.82</td>\n",
       "      <td>0.83</td>\n",
       "      <td>0.79</td>\n",
       "      <td>0.67</td>\n",
       "      <td>0.96</td>\n",
       "    </tr>\n",
       "    <tr>\n",
       "      <th>chimoio</th>\n",
       "      <td>0.47</td>\n",
       "      <td>0.97</td>\n",
       "      <td>0.31</td>\n",
       "      <td>0.82</td>\n",
       "      <td>0.94</td>\n",
       "      <td>0.73</td>\n",
       "    </tr>\n",
       "    <tr>\n",
       "      <th>dakar</th>\n",
       "      <td>0.85</td>\n",
       "      <td>0.74</td>\n",
       "      <td>1</td>\n",
       "      <td>0.81</td>\n",
       "      <td>0.69</td>\n",
       "      <td>0.98</td>\n",
       "    </tr>\n",
       "    <tr>\n",
       "      <th>gao</th>\n",
       "      <td>0.35</td>\n",
       "      <td>0.98</td>\n",
       "      <td>0.21</td>\n",
       "      <td>0.73</td>\n",
       "      <td>0.94</td>\n",
       "      <td>0.59</td>\n",
       "    </tr>\n",
       "    <tr>\n",
       "      <th>johannesburg</th>\n",
       "      <td>0.92</td>\n",
       "      <td>0.86</td>\n",
       "      <td>0.99</td>\n",
       "      <td>0.9</td>\n",
       "      <td>0.82</td>\n",
       "      <td>1</td>\n",
       "    </tr>\n",
       "    <tr>\n",
       "      <th>kampala</th>\n",
       "      <td>0.96</td>\n",
       "      <td>0.95</td>\n",
       "      <td>0.96</td>\n",
       "      <td>0.95</td>\n",
       "      <td>0.93</td>\n",
       "      <td>0.97</td>\n",
       "    </tr>\n",
       "    <tr>\n",
       "      <th>katsina</th>\n",
       "      <td>0.9</td>\n",
       "      <td>0.92</td>\n",
       "      <td>0.88</td>\n",
       "      <td>0.65</td>\n",
       "      <td>0.76</td>\n",
       "      <td>0.56</td>\n",
       "    </tr>\n",
       "    <tr>\n",
       "      <th>nairobi</th>\n",
       "      <td>0.84</td>\n",
       "      <td>0.96</td>\n",
       "      <td>0.75</td>\n",
       "      <td>0.88</td>\n",
       "      <td>0.81</td>\n",
       "      <td>0.97</td>\n",
       "    </tr>\n",
       "    <tr>\n",
       "      <th>saint_louis</th>\n",
       "      <td>0.76</td>\n",
       "      <td>0.95</td>\n",
       "      <td>0.63</td>\n",
       "      <td>0.81</td>\n",
       "      <td>0.97</td>\n",
       "      <td>0.7</td>\n",
       "    </tr>\n",
       "    <tr>\n",
       "      <th>windhoek</th>\n",
       "      <td>0.81</td>\n",
       "      <td>0.92</td>\n",
       "      <td>0.73</td>\n",
       "      <td>0.78</td>\n",
       "      <td>0.65</td>\n",
       "      <td>0.99</td>\n",
       "    </tr>\n",
       "    <tr>\n",
       "      <th>mean</th>\n",
       "      <td>0.77</td>\n",
       "      <td>0.91</td>\n",
       "      <td>0.73</td>\n",
       "      <td>0.81</td>\n",
       "      <td>0.82</td>\n",
       "      <td>0.84</td>\n",
       "    </tr>\n",
       "    <tr>\n",
       "      <th>std</th>\n",
       "      <td>0.19</td>\n",
       "      <td>0.07</td>\n",
       "      <td>0.26</td>\n",
       "      <td>0.08</td>\n",
       "      <td>0.12</td>\n",
       "      <td>0.17</td>\n",
       "    </tr>\n",
       "  </tbody>\n",
       "</table>\n",
       "</div>"
      ],
      "text/plain": [
       "             ghsl_f1_score ghsl_precision ghsl_recall hbase_f1_score  \\\n",
       "antananarivo          0.83           0.82        0.83           0.79   \n",
       "chimoio               0.47           0.97        0.31           0.82   \n",
       "dakar                 0.85           0.74           1           0.81   \n",
       "gao                   0.35           0.98        0.21           0.73   \n",
       "johannesburg          0.92           0.86        0.99            0.9   \n",
       "kampala               0.96           0.95        0.96           0.95   \n",
       "katsina                0.9           0.92        0.88           0.65   \n",
       "nairobi               0.84           0.96        0.75           0.88   \n",
       "saint_louis           0.76           0.95        0.63           0.81   \n",
       "windhoek              0.81           0.92        0.73           0.78   \n",
       "mean                  0.77           0.91        0.73           0.81   \n",
       "std                   0.19           0.07        0.26           0.08   \n",
       "\n",
       "             hbase_precision hbase_recall  \n",
       "antananarivo            0.67         0.96  \n",
       "chimoio                 0.94         0.73  \n",
       "dakar                   0.69         0.98  \n",
       "gao                     0.94         0.59  \n",
       "johannesburg            0.82            1  \n",
       "kampala                 0.93         0.97  \n",
       "katsina                 0.76         0.56  \n",
       "nairobi                 0.81         0.97  \n",
       "saint_louis             0.97          0.7  \n",
       "windhoek                0.65         0.99  \n",
       "mean                    0.82         0.84  \n",
       "std                     0.12         0.17  "
      ]
     },
     "execution_count": 20,
     "metadata": {},
     "output_type": "execute_result"
    }
   ],
   "source": [
    "scores"
   ]
  },
  {
   "cell_type": "code",
   "execution_count": null,
   "metadata": {},
   "outputs": [],
   "source": []
  },
  {
   "cell_type": "code",
   "execution_count": null,
   "metadata": {},
   "outputs": [],
   "source": []
  }
 ],
 "metadata": {
  "kernelspec": {
   "display_name": "Python 3",
   "language": "python",
   "name": "python3"
  },
  "language_info": {
   "codemirror_mode": {
    "name": "ipython",
    "version": 3
   },
   "file_extension": ".py",
   "mimetype": "text/x-python",
   "name": "python",
   "nbconvert_exporter": "python",
   "pygments_lexer": "ipython3",
   "version": "3.6.4"
  },
  "toc": {
   "nav_menu": {},
   "number_sections": false,
   "sideBar": false,
   "skip_h1_title": true,
   "title_cell": "Contents",
   "title_sidebar": "Contents",
   "toc_cell": false,
   "toc_position": {},
   "toc_section_display": true,
   "toc_window_display": false
  }
 },
 "nbformat": 4,
 "nbformat_minor": 2
}
