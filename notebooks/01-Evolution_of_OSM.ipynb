{
 "cells": [
  {
   "cell_type": "markdown",
   "metadata": {},
   "source": [
    "# OpenStreetMap: Historical Analysis"
   ]
  },
  {
   "cell_type": "markdown",
   "metadata": {},
   "source": [
    "In this notebook, we analyze the evolution of OpenStreetMap availability through time from 2011 to 2018. More specifically, we are interested in the mapping trends related to the road network, the buildings footprints, and land use polygons."
   ]
  },
  {
   "cell_type": "markdown",
   "metadata": {},
   "source": [
    "## Imports & Parameters"
   ]
  },
  {
   "cell_type": "code",
   "execution_count": 1,
   "metadata": {},
   "outputs": [],
   "source": [
    "import os\n",
    "import sys\n",
    "from functools import partial\n",
    "from itertools import product\n",
    "import pandas as pd\n",
    "import geopandas as gpd\n",
    "import numpy as np\n",
    "import matplotlib.pyplot as plt\n",
    "import requests\n",
    "from tqdm import tqdm_notebook as tqdm\n",
    "from shapely.geometry import shape, mapping\n",
    "import json\n",
    "import subprocess"
   ]
  },
  {
   "cell_type": "code",
   "execution_count": 2,
   "metadata": {},
   "outputs": [],
   "source": [
    "# Add local module to the path\n",
    "src = os.path.abspath('../src')\n",
    "if src not in sys.path:\n",
    "    sys.path.append(src)"
   ]
  },
  {
   "cell_type": "code",
   "execution_count": 3,
   "metadata": {},
   "outputs": [],
   "source": [
    "from metadata import City, CITIES\n",
    "from generate_aoi import reproject_geom, as_geojson"
   ]
  },
  {
   "cell_type": "code",
   "execution_count": 4,
   "metadata": {},
   "outputs": [],
   "source": [
    "%matplotlib inline"
   ]
  },
  {
   "cell_type": "code",
   "execution_count": 5,
   "metadata": {},
   "outputs": [],
   "source": [
    "# Plotting style\n",
    "plt.style.use(['seaborn-paper', 'seaborn-whitegrid'])\n",
    "plt.rc('font', family='serif', serif='cmr10', size=12)\n",
    "plt.rc('axes', titlesize=12)\n",
    "plt.rc('axes', labelsize=12)\n",
    "plt.rc('xtick', labelsize=12)\n",
    "plt.rc('ytick', labelsize=12)\n",
    "plt.rc('legend', fontsize=12)\n",
    "plt.rc('figure', titlesize=12)\n",
    "plt.rc('text', usetex=True)\n",
    "plt.rc('savefig', dpi=300)"
   ]
  },
  {
   "cell_type": "code",
   "execution_count": 6,
   "metadata": {},
   "outputs": [],
   "source": [
    "KEYS = ['highway', 'building', 'leisure', 'natural', 'landuse']\n",
    "YEARS = [2011, 2012, 2013, 2014, 2015, 2016, 2017, 2018]"
   ]
  },
  {
   "cell_type": "code",
   "execution_count": 7,
   "metadata": {},
   "outputs": [],
   "source": [
    "def prettify(city_name):\n",
    "    \"\"\"Better city name.\"\"\"\n",
    "    city_name = city_name.replace('_', '-')\n",
    "    city_name = city_name.title()\n",
    "    return city_name"
   ]
  },
  {
   "cell_type": "markdown",
   "metadata": {
    "heading_collapsed": true
   },
   "source": [
    "## Data Acquisition"
   ]
  },
  {
   "cell_type": "markdown",
   "metadata": {
    "hidden": true
   },
   "source": [
    "OpenStreetMap data are downloaded from the [Geofabrik](http://download.geofabrik.de) website. Two kinds of data files are available: (1) full dumps that contains all the historical informations (e.g. when each feature has been added, corrected or removed), identified by the `osh.pbf` extension, and (2) default dumps that contains the latest snapshot of the OpenStreetMap data, identified by the `osm.pbf`. In this case, we are interested in the first one. NB: the full historical dump for Africa has a size of `3.3GB` as of April 2018."
   ]
  },
  {
   "cell_type": "code",
   "execution_count": 14,
   "metadata": {
    "hidden": true
   },
   "outputs": [],
   "source": [
    "africa_history_f = os.path.abspath(os.path.join('../data/input/osm/africa.osh.pbf'))"
   ]
  },
  {
   "cell_type": "code",
   "execution_count": 16,
   "metadata": {
    "hidden": true
   },
   "outputs": [],
   "source": [
    "if not os.path.isfile(africa_history_f):\n",
    "    \n",
    "    africa_history_url = 'http://download.geofabrik.de/africa.osh.pbf'\n",
    "    os.makedirs(os.path.dirname(africa_history_f), exist_ok=True)\n",
    "    \n",
    "    r = requests.get(africa_history_url, stream=True)\n",
    "    size = int(r.headers['Content-Length'])\n",
    "    #progress = tqdm(total=size, unit='B', unit_scale=True)\n",
    "    \n",
    "    with open(africa_history_f, 'wb') as f:\n",
    "    \n",
    "        for chunk in r.iter_content(chunk_size=1024):\n",
    "\n",
    "            if chunk:\n",
    "                \n",
    "                f.write(chunk)\n",
    "                #progress.update(1024)\n",
    "    \n",
    "    #progress.close()"
   ]
  },
  {
   "cell_type": "markdown",
   "metadata": {
    "heading_collapsed": true
   },
   "source": [
    "## Data Pre-Processing"
   ]
  },
  {
   "cell_type": "markdown",
   "metadata": {
    "hidden": true
   },
   "source": [
    "Data pre-processing is mainly performed with the [`osmium`](http://osmcode.org/osmium-tool/) command-line tool. The documentation is available [here](http://osmcode.org/osmium-tool/manual.html#the-osmium-command)."
   ]
  },
  {
   "cell_type": "markdown",
   "metadata": {
    "hidden": true
   },
   "source": [
    "### Geographical extracts"
   ]
  },
  {
   "cell_type": "markdown",
   "metadata": {
    "hidden": true
   },
   "source": [
    "We create geographical extracts of the full history dump (based on the area of interest of each case study) using the `osmium extract --with-history` command. The area of interest is provided through a bounding box string such as `16.87,-22.74,17.26,-22.37`."
   ]
  },
  {
   "cell_type": "code",
   "execution_count": 17,
   "metadata": {
    "hidden": true
   },
   "outputs": [],
   "source": [
    "#progress = tqdm(total=len(CITIES))\n",
    "\n",
    "for city_name in CITIES:\n",
    "\n",
    "    city = City(city_name)\n",
    "\n",
    "    # In our case, the AOI is stored in an UTM CRS\n",
    "    # Osmium requires a GeoJSON file in lat/lon coordinates\n",
    "    aoi = shape(city.aoi)\n",
    "    aoi = reproject_geom(aoi, city.epsg, 4326)\n",
    "    bbox = '{},{},{},{}'.format(*aoi.bounds)\n",
    "\n",
    "    history_dump = os.path.join(city.intermediary_dir, 'osm', 'history', 'dump.osh.pbf')\n",
    "    os.makedirs(os.path.dirname(history_dump), exist_ok=True)\n",
    "\n",
    "    if not os.path.isfile(history_dump):\n",
    "\n",
    "        subprocess.run([\n",
    "            'osmium', 'extract', '-b', bbox,\n",
    "            '--with-history', '--overwrite',\n",
    "            '-o', history_dump, africa_history_f\n",
    "        ])\n",
    "\n",
    "    #progress.update(1)\n",
    "\n",
    "#progress.close()"
   ]
  },
  {
   "cell_type": "markdown",
   "metadata": {
    "hidden": true
   },
   "source": [
    "### Filtering by year and by tags"
   ]
  },
  {
   "cell_type": "markdown",
   "metadata": {
    "hidden": true
   },
   "source": [
    "We are looking for informations related to various OSM objects: roads, buildings footprints, and potentially non-built polygons (i.e. leisure, landuse, and natural). The objective is to produce one data file for each object of interest at multiple years and for each case study. The processing makes use of three different `osmium` commands. Firstly, yearly temporal extracts are produced for each case study using the `osmium time-filter` command. Then, individual data files are extracted for each object of interest using the `osmium tags-filter` command. Finally, the data files are converted to the GEOJSON format using the `osmium export` command."
   ]
  },
  {
   "cell_type": "code",
   "execution_count": 31,
   "metadata": {
    "hidden": true,
    "scrolled": true
   },
   "outputs": [
    {
     "data": {
      "application/vnd.jupyter.widget-view+json": {
       "model_id": "5e162b5bf073456880518d3f419a4b7b",
       "version_major": 2,
       "version_minor": 0
      },
      "text/html": [
       "<p>Failed to display Jupyter Widget of type <code>HBox</code>.</p>\n",
       "<p>\n",
       "  If you're reading this message in the Jupyter Notebook or JupyterLab Notebook, it may mean\n",
       "  that the widgets JavaScript is still loading. If this message persists, it\n",
       "  likely means that the widgets JavaScript library is either not installed or\n",
       "  not enabled. See the <a href=\"https://ipywidgets.readthedocs.io/en/stable/user_install.html\">Jupyter\n",
       "  Widgets Documentation</a> for setup instructions.\n",
       "</p>\n",
       "<p>\n",
       "  If you're reading this message in another frontend (for example, a static\n",
       "  rendering on GitHub or <a href=\"https://nbviewer.jupyter.org/\">NBViewer</a>),\n",
       "  it may mean that your frontend doesn't currently support widgets.\n",
       "</p>\n"
      ],
      "text/plain": [
       "HBox(children=(IntProgress(value=0, max=400), HTML(value='')))"
      ]
     },
     "metadata": {},
     "output_type": "display_data"
    },
    {
     "name": "stdout",
     "output_type": "stream",
     "text": [
      "\n",
      "\n"
     ]
    }
   ],
   "source": [
    "time = '{year}-01-01T00:00:00Z'\n",
    "\n",
    "progress = tqdm(total=len(CITIES) * len(YEARS) * len(KEYS))\n",
    "\n",
    "for city_name in CITIES:\n",
    "    \n",
    "    city = City(city_name)\n",
    "    \n",
    "    full_dump = os.path.join(city.intermediary_dir, 'osm', 'history', 'dump.osh.pbf')\n",
    "    \n",
    "    for year in YEARS:\n",
    "        \n",
    "        output_dir = os.path.join(city.intermediary_dir, 'osm', 'history', str(year))\n",
    "        os.makedirs(output_dir, exist_ok=True)\n",
    "        \n",
    "        yearly_dump = os.path.join(output_dir, 'dump.osm.pbf')\n",
    "                \n",
    "        subprocess.run([\n",
    "            'osmium', 'time-filter', '-O', '-o', yearly_dump,\n",
    "            full_dump, time.format(year=year)\n",
    "        ])\n",
    "        \n",
    "        for key in KEYS:\n",
    "            \n",
    "            filtered_dump = os.path.join(output_dir, '{}.osm.pbf'.format(key))\n",
    "            \n",
    "            filt_expression = 'w/{}'.format(key)\n",
    "            \n",
    "            subprocess.run([\n",
    "                'osmium', 'tags-filter', '-O', '-o', filtered_dump,\n",
    "                yearly_dump, filt_expression\n",
    "            ])\n",
    "            \n",
    "            geojson = os.path.join(output_dir, 'dump_{}.geojson'.format(key))\n",
    "            \n",
    "            subprocess.run([\n",
    "                'osmium', 'export', '-O', '-o', geojson, filtered_dump\n",
    "            ])\n",
    "                    \n",
    "            # Keep only objects of a given geometry type\n",
    "            # and fix geometries that are not contained by the AOI.\n",
    "            # Also reproject to an UTM CRS\n",
    "            if key == 'highway':\n",
    "                geom_type = 'LineString'\n",
    "            else:\n",
    "                geom_type = 'MultiPolygon'\n",
    "                \n",
    "            try:\n",
    "                features = gpd.read_file(geojson)\n",
    "                features = features[features.geom_type == geom_type]\n",
    "                features = features.to_crs(city.crs)\n",
    "                features = features[features.intersects(shape(city.aoi))]\n",
    "                features.to_file(os.path.join(output_dir, key + '.geojson'), driver='GeoJSON')\n",
    "            except:\n",
    "                pass\n",
    "                \n",
    "            progress.update(1)\n",
    "            \n",
    "        # Remove useless files\n",
    "        for file in os.listdir(output_dir):\n",
    "            if 'osm.pbf' in file or 'dump' in file:\n",
    "                os.remove(os.path.join(output_dir, file))\n",
    "\n",
    "progress.close()"
   ]
  },
  {
   "cell_type": "markdown",
   "metadata": {
    "hidden": true
   },
   "source": [
    "As a result, for each case study and each year between 2011 and 2018, we have the following data files:\n",
    "\n",
    "- `highway.geojson`\n",
    "- `building.geojson`\n",
    "- `landuse.geojson`\n",
    "- `leisure.geojson`\n",
    "- `natural.geojson`"
   ]
  },
  {
   "cell_type": "markdown",
   "metadata": {},
   "source": [
    "## Local analysis"
   ]
  },
  {
   "cell_type": "code",
   "execution_count": 8,
   "metadata": {},
   "outputs": [],
   "source": [
    "def count_and_measure(geojson_file, area_of_interest):\n",
    "    \"\"\"Count & measure objects available in a GeoJSON file.\"\"\"\n",
    "    features = gpd.read_file(geojson_file)\n",
    "    geometries = features.intersection(area_of_interest)\n",
    "    features = features.assign(geometry=geometries)\n",
    "    \n",
    "    n = len(features)\n",
    "    \n",
    "    if features.type[0] == 'LineString':\n",
    "        s = features.length.sum()\n",
    "    else:\n",
    "        s = features.area.sum()\n",
    "    \n",
    "    return n, round(s)"
   ]
  },
  {
   "cell_type": "code",
   "execution_count": 9,
   "metadata": {},
   "outputs": [],
   "source": [
    "index = pd.MultiIndex.from_product((CITIES, KEYS))\n",
    "count = pd.DataFrame(index=index, columns=YEARS)\n",
    "sizes = pd.DataFrame(index=index, columns=YEARS)"
   ]
  },
  {
   "cell_type": "code",
   "execution_count": 10,
   "metadata": {},
   "outputs": [],
   "source": [
    "#progress = tqdm(total=len(CITIES) * len(YEARS) * len(KEYS))\n",
    "\n",
    "for city_name in CITIES:\n",
    "    \n",
    "    city = City(city_name)\n",
    "    aoi = shape(city.aoi)\n",
    "    \n",
    "    for year in YEARS:\n",
    "        \n",
    "        data_dir = os.path.join(city.intermediary_dir, 'osm', 'history', str(year))\n",
    "        \n",
    "        for key in KEYS:\n",
    "            \n",
    "            geojson_path = os.path.join(data_dir, key + '.geojson')\n",
    "            if os.path.isfile(geojson_path):\n",
    "                n, s = count_and_measure(geojson_path, aoi)\n",
    "                count.at[((city_name, key), year)] = n\n",
    "                sizes.at[((city_name, key), year)] = s\n",
    "            #progress.update(1)\n",
    "\n",
    "#progress.close()"
   ]
  },
  {
   "cell_type": "code",
   "execution_count": 11,
   "metadata": {},
   "outputs": [],
   "source": [
    "# Replace NaN by 0\n",
    "count = count.replace(np.nan, 0)\n",
    "sizes = sizes.replace(np.nan, 0)\n",
    "\n",
    "# Convert sizes to km and ha\n",
    "def convert(row):\n",
    "    \"\"\"Convert lengths to km and surfaces to ha.\"\"\"\n",
    "    (city_name, key), data = row\n",
    "    if key == 'highway':\n",
    "        data *= 1e-3\n",
    "    else:\n",
    "        data *= 1e-4\n",
    "    func = partial(round, ndigits=1)\n",
    "    return data.map(func)\n",
    "\n",
    "for i, row in enumerate(sizes.iterrows()):\n",
    "    sizes.iloc[i] = convert(row)"
   ]
  },
  {
   "cell_type": "code",
   "execution_count": 13,
   "metadata": {
    "scrolled": false
   },
   "outputs": [
    {
     "data": {
      "image/png": "[encoded data removed]",
      "text/plain": [
       "<Figure size 576x576 with 4 Axes>"
      ]
     },
     "metadata": {},
     "output_type": "display_data"
    }
   ],
   "source": [
    "f, axes = plt.subplots(2, 2, figsize=(8, 8), sharex=True)\n",
    "\n",
    "for key, ax in zip(('highway', 'building', 'landuse'), axes.flat):\n",
    "    \n",
    "    evolution = count.xs(key, level=1)\n",
    "    evolution.index = evolution.index.map(prettify)\n",
    "    evolution.T.plot(ax=ax)\n",
    "    ax.plot(evolution.mean(), label='Mean', linestyle=':', color='C3')\n",
    "    ax.legend([])\n",
    "    ax.set_xlim(2011, 2018)\n",
    "    ax.set_title('Number of $\\\\texttt{{{key}}}$ objects'.format(key=key))\n",
    "    \n",
    "for key in KEYS:\n",
    "    \n",
    "    evolution = count.xs(key, level=1).sum()\n",
    "    evolution = evolution / evolution.max()\n",
    "    axes[1][1].plot(evolution, label=key.title())\n",
    "    axes[1][1].set_xlim(2011, 2018)\n",
    "    axes[1][1].set_ylim(0, 1)\n",
    "    axes[1][1].legend(ncol=1, frameon=True)\n",
    "    axes[1][1].set_title('Normalized count for all case studies')\n",
    "    \n",
    "axes.flat[1].legend(ncol=1, frameon=True)\n",
    "f.tight_layout()\n",
    "\n",
    "f.savefig('../paper/figures/osm_history_local.pdf')\n",
    "f.savefig('../paper/figures/osm_history_local.png');"
   ]
  },
  {
   "cell_type": "markdown",
   "metadata": {},
   "source": [
    "## Global analysis"
   ]
  },
  {
   "cell_type": "markdown",
   "metadata": {},
   "source": [
    "Geographical extracts are available through the [Geofabrik](https://www.geofabrik.de/data/download.html) website at various years (mainly from January 2014 to January 2018). Here, we collect the file size in bytes for various continents or countries from 2014 to 2018 by requesting HTTP headers to the website."
   ]
  },
  {
   "cell_type": "code",
   "execution_count": 14,
   "metadata": {},
   "outputs": [],
   "source": [
    "CONTINENTS = ['africa', 'antarctica', 'asia',  'australia-oceania', 'central-america', 'europe', 'north-america', 'south-america']\n",
    "COUNTRIES = ['germany', 'france', 'belgium', 'spain', 'italy', 'mozambique', 'uganda', 'nigeria', 'madagascar', 'namibia']\n",
    "YEARS = ['2014', '2015', '2016', '2017', '2018']"
   ]
  },
  {
   "cell_type": "code",
   "execution_count": 15,
   "metadata": {},
   "outputs": [],
   "source": [
    "def get_size(continent, year, country=None):\n",
    "    \"\"\"Get size in bytes of the OSM file of a given continent for a given year.\n",
    "    Request HTTP headers from the geofabrik.de website to get the file size in bytes.\n",
    "    \"\"\"\n",
    "    year = str(year)[-2:]\n",
    "    if country:\n",
    "        url = 'http://download.geofabrik.de/{}/{}-{}0101.osm.pbf'.format(continent, country, year)\n",
    "    else:\n",
    "        url = 'http://download.geofabrik.de/{}-{}0101.osm.pbf'.format(continent, year)\n",
    "    r = requests.head(url)\n",
    "    if r.status_code == 200:\n",
    "        size = r.headers['Content-Length']\n",
    "        return int(size)\n",
    "    else:\n",
    "        return None"
   ]
  },
  {
   "cell_type": "code",
   "execution_count": 16,
   "metadata": {},
   "outputs": [],
   "source": [
    "size_per_continent = pd.DataFrame(index=CONTINENTS, columns=YEARS)\n",
    "size_per_country = pd.Series(index=COUNTRIES)"
   ]
  },
  {
   "cell_type": "code",
   "execution_count": 17,
   "metadata": {},
   "outputs": [],
   "source": [
    "for continent, year in product(CONTINENTS, YEARS):\n",
    "    size = get_size(continent, year)\n",
    "    size_per_continent.at[(continent, year)] = size\n",
    "\n",
    "for country in COUNTRIES:\n",
    "    size = get_size('africa', 2018, country)\n",
    "    if not size:\n",
    "        size = get_size('europe', 2018, country)\n",
    "    size_per_country.loc[country] = size"
   ]
  },
  {
   "cell_type": "markdown",
   "metadata": {},
   "source": [
    "Convert Bytes to Gigabytes:"
   ]
  },
  {
   "cell_type": "code",
   "execution_count": 18,
   "metadata": {},
   "outputs": [],
   "source": [
    "size_per_continent *= 1e-9\n",
    "size_per_country *= 1e-9"
   ]
  },
  {
   "cell_type": "code",
   "execution_count": 19,
   "metadata": {},
   "outputs": [],
   "source": [
    "func = partial(round, ndigits=2)\n",
    "size_per_continent = size_per_continent.applymap(func)\n",
    "size_per_country = size_per_country.map(func)"
   ]
  },
  {
   "cell_type": "code",
   "execution_count": 20,
   "metadata": {},
   "outputs": [
    {
     "data": {
      "text/html": [
       "<div>\n",
       "<style scoped>\n",
       "    .dataframe tbody tr th:only-of-type {\n",
       "        vertical-align: middle;\n",
       "    }\n",
       "\n",
       "    .dataframe tbody tr th {\n",
       "        vertical-align: top;\n",
       "    }\n",
       "\n",
       "    .dataframe thead th {\n",
       "        text-align: right;\n",
       "    }\n",
       "</style>\n",
       "<table border=\"1\" class=\"dataframe\">\n",
       "  <thead>\n",
       "    <tr style=\"text-align: right;\">\n",
       "      <th></th>\n",
       "      <th>2014</th>\n",
       "      <th>2015</th>\n",
       "      <th>2016</th>\n",
       "      <th>2017</th>\n",
       "      <th>2018</th>\n",
       "    </tr>\n",
       "  </thead>\n",
       "  <tbody>\n",
       "    <tr>\n",
       "      <th>africa</th>\n",
       "      <td>0.44</td>\n",
       "      <td>0.72</td>\n",
       "      <td>1.02</td>\n",
       "      <td>1.52</td>\n",
       "      <td>2.11</td>\n",
       "    </tr>\n",
       "    <tr>\n",
       "      <th>antarctica</th>\n",
       "      <td>0.03</td>\n",
       "      <td>0.03</td>\n",
       "      <td>0.03</td>\n",
       "      <td>0.03</td>\n",
       "      <td>0.03</td>\n",
       "    </tr>\n",
       "    <tr>\n",
       "      <th>asia</th>\n",
       "      <td>2.48</td>\n",
       "      <td>3.01</td>\n",
       "      <td>3.80</td>\n",
       "      <td>4.50</td>\n",
       "      <td>5.56</td>\n",
       "    </tr>\n",
       "    <tr>\n",
       "      <th>australia-oceania</th>\n",
       "      <td>0.28</td>\n",
       "      <td>0.35</td>\n",
       "      <td>0.42</td>\n",
       "      <td>0.48</td>\n",
       "      <td>0.53</td>\n",
       "    </tr>\n",
       "    <tr>\n",
       "      <th>central-america</th>\n",
       "      <td>0.17</td>\n",
       "      <td>0.21</td>\n",
       "      <td>0.17</td>\n",
       "      <td>0.24</td>\n",
       "      <td>0.32</td>\n",
       "    </tr>\n",
       "    <tr>\n",
       "      <th>europe</th>\n",
       "      <td>10.87</td>\n",
       "      <td>13.36</td>\n",
       "      <td>15.32</td>\n",
       "      <td>17.05</td>\n",
       "      <td>18.64</td>\n",
       "    </tr>\n",
       "    <tr>\n",
       "      <th>north-america</th>\n",
       "      <td>5.79</td>\n",
       "      <td>6.38</td>\n",
       "      <td>6.95</td>\n",
       "      <td>7.48</td>\n",
       "      <td>8.03</td>\n",
       "    </tr>\n",
       "    <tr>\n",
       "      <th>south-america</th>\n",
       "      <td>0.44</td>\n",
       "      <td>0.60</td>\n",
       "      <td>0.73</td>\n",
       "      <td>0.96</td>\n",
       "      <td>1.19</td>\n",
       "    </tr>\n",
       "  </tbody>\n",
       "</table>\n",
       "</div>"
      ],
      "text/plain": [
       "                    2014   2015   2016   2017   2018\n",
       "africa              0.44   0.72   1.02   1.52   2.11\n",
       "antarctica          0.03   0.03   0.03   0.03   0.03\n",
       "asia                2.48   3.01   3.80   4.50   5.56\n",
       "australia-oceania   0.28   0.35   0.42   0.48   0.53\n",
       "central-america     0.17   0.21   0.17   0.24   0.32\n",
       "europe             10.87  13.36  15.32  17.05  18.64\n",
       "north-america       5.79   6.38   6.95   7.48   8.03\n",
       "south-america       0.44   0.60   0.73   0.96   1.19"
      ]
     },
     "execution_count": 20,
     "metadata": {},
     "output_type": "execute_result"
    }
   ],
   "source": [
    "size_per_continent"
   ]
  },
  {
   "cell_type": "code",
   "execution_count": 21,
   "metadata": {},
   "outputs": [
    {
     "data": {
      "text/plain": [
       "germany       2.85\n",
       "france        3.42\n",
       "belgium       0.29\n",
       "spain         0.64\n",
       "italy         1.28\n",
       "mozambique    0.10\n",
       "uganda        0.06\n",
       "nigeria       0.10\n",
       "madagascar    0.04\n",
       "namibia       0.02\n",
       "dtype: float64"
      ]
     },
     "execution_count": 21,
     "metadata": {},
     "output_type": "execute_result"
    }
   ],
   "source": [
    "size_per_country"
   ]
  },
  {
   "cell_type": "code",
   "execution_count": 22,
   "metadata": {},
   "outputs": [],
   "source": [
    "for c in ('antarctica', 'central-america'):\n",
    "    if c in size_per_continent.index:\n",
    "        size_per_continent.drop(c, axis=0, inplace=True)"
   ]
  },
  {
   "cell_type": "code",
   "execution_count": 23,
   "metadata": {},
   "outputs": [
    {
     "data": {
      "image/png": "[encoded data removed]",
      "text/plain": [
       "<matplotlib.figure.Figure at 0x7f497bc35978>"
      ]
     },
     "metadata": {},
     "output_type": "display_data"
    }
   ],
   "source": [
    "f, ax = plt.subplots(figsize=(5,5))\n",
    "\n",
    "for continent in size_per_continent.index:\n",
    "    \n",
    "    evolution = size_per_continent.loc[continent]\n",
    "    ax.plot(evolution, label=continent.title())\n",
    "    ax.set_yscale('log')\n",
    "\n",
    "ax.set_xlim(2014, 2018)\n",
    "ax.set_ylabel('Gigabytes')\n",
    "\n",
    "for line in ax.lines:\n",
    "    y = line.get_ydata()[-1]\n",
    "    label = line.get_label()\n",
    "    annot = ax.annotate(label, xy=(1, y), xytext=(5, 0), xycoords=ax.get_yaxis_transform(), textcoords='offset points', va='center')\n",
    "\n",
    "f.tight_layout();\n",
    "f.savefig('../paper/figures/osm_per_continent.pdf', bbox_inches='tight')\n",
    "f.savefig('../paper/figures/osm_per_continent.png', bbox_inches='tight');"
   ]
  },
  {
   "cell_type": "markdown",
   "metadata": {},
   "source": [
    "Save dataframes to disk:"
   ]
  },
  {
   "cell_type": "code",
   "execution_count": 24,
   "metadata": {},
   "outputs": [],
   "source": [
    "output_dir = os.path.abspath('../data/output')\n",
    "os.makedirs(output_dir, exist_ok=True)\n",
    "\n",
    "output_f = os.path.join(output_dir, 'osm_evolution_continent.csv')\n",
    "size_per_continent.to_csv(output_f)\n",
    "\n",
    "output_f = os.path.join(output_dir, 'osm_evolution_city.csv')\n",
    "sizes.to_csv(output_f)"
   ]
  },
  {
   "cell_type": "code",
   "execution_count": null,
   "metadata": {},
   "outputs": [],
   "source": []
  }
 ],
 "metadata": {
  "kernelspec": {
   "display_name": "Python 3",
   "language": "python",
   "name": "python3"
  },
  "language_info": {
   "codemirror_mode": {
    "name": "ipython",
    "version": 3
   },
   "file_extension": ".py",
   "mimetype": "text/x-python",
   "name": "python",
   "nbconvert_exporter": "python",
   "pygments_lexer": "ipython3",
   "version": "3.7.2"
  },
  "notify_time": "30",
  "toc": {
   "nav_menu": {},
   "number_sections": true,
   "sideBar": false,
   "skip_h1_title": true,
   "title_cell": "Contents",
   "title_sidebar": "Contents",
   "toc_cell": false,
   "toc_position": {
    "height": "487px",
    "left": "841px",
    "top": "133px",
    "width": "287px"
   },
   "toc_section_display": false,
   "toc_window_display": false
  }
 },
 "nbformat": 4,
 "nbformat_minor": 2
}
